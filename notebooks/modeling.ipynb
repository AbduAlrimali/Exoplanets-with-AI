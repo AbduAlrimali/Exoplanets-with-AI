{
 "cells": [
  {
   "cell_type": "code",
   "execution_count": 1,
   "id": "213b48b0-5a0c-4a3f-a890-3e9539614b0b",
   "metadata": {},
   "outputs": [
    {
     "name": "stdout",
     "output_type": "stream",
     "text": [
      "Requirement already satisfied: xgboost in /root/miniconda3/envs/exoplanets_with_ai/lib/python3.13/site-packages (3.0.5)\n",
      "Requirement already satisfied: numpy in /root/miniconda3/envs/exoplanets_with_ai/lib/python3.13/site-packages (from xgboost) (2.3.3)\n",
      "Requirement already satisfied: nvidia-nccl-cu12 in /root/miniconda3/envs/exoplanets_with_ai/lib/python3.13/site-packages (from xgboost) (2.28.3)\n",
      "Requirement already satisfied: scipy in /root/miniconda3/envs/exoplanets_with_ai/lib/python3.13/site-packages (from xgboost) (1.16.2)\n",
      "\u001b[33mWARNING: Running pip as the 'root' user can result in broken permissions and conflicting behaviour with the system package manager, possibly rendering your system unusable. It is recommended to use a virtual environment instead: https://pip.pypa.io/warnings/venv. Use the --root-user-action option if you know what you are doing and want to suppress this warning.\u001b[0m\u001b[33m\n",
      "\u001b[0m"
     ]
    }
   ],
   "source": [
    "!pip install xgboost"
   ]
  },
  {
   "cell_type": "code",
   "execution_count": 2,
   "id": "6d1527be-0c6e-48a6-be43-24643831ddb7",
   "metadata": {},
   "outputs": [],
   "source": [
    "import numpy as np\n",
    "import pandas as pd\n",
    "import matplotlib.pyplot as plt\n",
    "import seaborn as sns\n",
    "from sklearn.model_selection import train_test_split, RandomizedSearchCV\n",
    "from sklearn.impute import KNNImputer\n",
    "from sklearn.preprocessing import OrdinalEncoder\n",
    "from imblearn.over_sampling import SMOTE\n",
    "from sklearn.preprocessing import StandardScaler, MinMaxScaler, RobustScaler\n",
    "from sklearn.tree import DecisionTreeClassifier\n",
    "from sklearn.ensemble import RandomForestClassifier\n",
    "import xgboost as xgb\n",
    "from sklearn.metrics import accuracy_score, precision_score, recall_score, f1_score, classification_report\n",
    "\n",
    "pd.set_option('display.float_format', '{:.2f}'.format)\n",
    "pd.set_option('display.max_rows', None)"
   ]
  },
  {
   "cell_type": "code",
   "execution_count": 3,
   "id": "b3db0116-6096-43e4-aba0-017c14c5a5f8",
   "metadata": {},
   "outputs": [
    {
     "name": "stdout",
     "output_type": "stream",
     "text": [
      "/root/miniconda3/envs/exoplanets_with_ai/main/notebooks\n"
     ]
    }
   ],
   "source": [
    "import os\n",
    "print(os.getcwd())"
   ]
  },
  {
   "cell_type": "code",
   "execution_count": 4,
   "id": "5278c447-af57-4198-afe1-9a189960ee18",
   "metadata": {},
   "outputs": [],
   "source": [
    "data = pd.read_csv(\"/root/miniconda3/envs/exoplanets_with_ai/main/data/TESS cleaned.csv\", index_col=\"rowid\")"
   ]
  },
  {
   "cell_type": "code",
   "execution_count": 5,
   "id": "3f98a8dc-8a01-4a7b-ba56-12e3c18d0195",
   "metadata": {},
   "outputs": [
    {
     "data": {
      "text/html": [
       "<div>\n",
       "<style scoped>\n",
       "    .dataframe tbody tr th:only-of-type {\n",
       "        vertical-align: middle;\n",
       "    }\n",
       "\n",
       "    .dataframe tbody tr th {\n",
       "        vertical-align: top;\n",
       "    }\n",
       "\n",
       "    .dataframe thead th {\n",
       "        text-align: right;\n",
       "    }\n",
       "</style>\n",
       "<table border=\"1\" class=\"dataframe\">\n",
       "  <thead>\n",
       "    <tr style=\"text-align: right;\">\n",
       "      <th></th>\n",
       "      <th>pl_pnum</th>\n",
       "      <th>ra</th>\n",
       "      <th>dec</th>\n",
       "      <th>st_pmra</th>\n",
       "      <th>st_pmdec</th>\n",
       "      <th>pl_tranmid</th>\n",
       "      <th>pl_orbper</th>\n",
       "      <th>pl_trandurh</th>\n",
       "      <th>pl_trandep</th>\n",
       "      <th>pl_rade</th>\n",
       "      <th>pl_insol</th>\n",
       "      <th>pl_eqt</th>\n",
       "      <th>st_tmag</th>\n",
       "      <th>st_dist</th>\n",
       "      <th>st_teff</th>\n",
       "      <th>st_rad</th>\n",
       "      <th>class</th>\n",
       "    </tr>\n",
       "    <tr>\n",
       "      <th>rowid</th>\n",
       "      <th></th>\n",
       "      <th></th>\n",
       "      <th></th>\n",
       "      <th></th>\n",
       "      <th></th>\n",
       "      <th></th>\n",
       "      <th></th>\n",
       "      <th></th>\n",
       "      <th></th>\n",
       "      <th></th>\n",
       "      <th></th>\n",
       "      <th></th>\n",
       "      <th></th>\n",
       "      <th></th>\n",
       "      <th></th>\n",
       "      <th></th>\n",
       "      <th></th>\n",
       "    </tr>\n",
       "  </thead>\n",
       "  <tbody>\n",
       "    <tr>\n",
       "      <th>1</th>\n",
       "      <td>1</td>\n",
       "      <td>112.36</td>\n",
       "      <td>-12.70</td>\n",
       "      <td>-5.96</td>\n",
       "      <td>-0.08</td>\n",
       "      <td>2459229.63</td>\n",
       "      <td>2.17</td>\n",
       "      <td>2.02</td>\n",
       "      <td>656.89</td>\n",
       "      <td>5.82</td>\n",
       "      <td>22601.95</td>\n",
       "      <td>3127.20</td>\n",
       "      <td>9.60</td>\n",
       "      <td>485.74</td>\n",
       "      <td>10249.00</td>\n",
       "      <td>2.17</td>\n",
       "      <td>False Alarm</td>\n",
       "    </tr>\n",
       "    <tr>\n",
       "      <th>2</th>\n",
       "      <td>1</td>\n",
       "      <td>122.58</td>\n",
       "      <td>-5.51</td>\n",
       "      <td>-4.96</td>\n",
       "      <td>-15.55</td>\n",
       "      <td>2459987.95</td>\n",
       "      <td>1.93</td>\n",
       "      <td>3.17</td>\n",
       "      <td>1286.00</td>\n",
       "      <td>11.22</td>\n",
       "      <td>44464.50</td>\n",
       "      <td>4045.00</td>\n",
       "      <td>9.42</td>\n",
       "      <td>295.86</td>\n",
       "      <td>7070.00</td>\n",
       "      <td>2.01</td>\n",
       "      <td>Possible Candidate</td>\n",
       "    </tr>\n",
       "    <tr>\n",
       "      <th>3</th>\n",
       "      <td>1</td>\n",
       "      <td>104.73</td>\n",
       "      <td>-10.58</td>\n",
       "      <td>-1.46</td>\n",
       "      <td>-2.25</td>\n",
       "      <td>2459224.69</td>\n",
       "      <td>1.87</td>\n",
       "      <td>1.41</td>\n",
       "      <td>1500.00</td>\n",
       "      <td>23.75</td>\n",
       "      <td>2860.61</td>\n",
       "      <td>2037.00</td>\n",
       "      <td>9.30</td>\n",
       "      <td>943.11</td>\n",
       "      <td>8924.00</td>\n",
       "      <td>5.73</td>\n",
       "      <td>False Alarm</td>\n",
       "    </tr>\n",
       "    <tr>\n",
       "      <th>4</th>\n",
       "      <td>1</td>\n",
       "      <td>110.56</td>\n",
       "      <td>-25.21</td>\n",
       "      <td>-0.94</td>\n",
       "      <td>1.64</td>\n",
       "      <td>2458493.40</td>\n",
       "      <td>2.74</td>\n",
       "      <td>3.17</td>\n",
       "      <td>383.41</td>\n",
       "      <td>NaN</td>\n",
       "      <td>1177.36</td>\n",
       "      <td>1631.00</td>\n",
       "      <td>9.30</td>\n",
       "      <td>7728.17</td>\n",
       "      <td>5388.50</td>\n",
       "      <td>NaN</td>\n",
       "      <td>False Alarm</td>\n",
       "    </tr>\n",
       "    <tr>\n",
       "      <th>5</th>\n",
       "      <td>1</td>\n",
       "      <td>122.18</td>\n",
       "      <td>-48.80</td>\n",
       "      <td>-4.50</td>\n",
       "      <td>9.35</td>\n",
       "      <td>2459987.05</td>\n",
       "      <td>3.57</td>\n",
       "      <td>3.37</td>\n",
       "      <td>755.00</td>\n",
       "      <td>11.31</td>\n",
       "      <td>54679.30</td>\n",
       "      <td>4260.00</td>\n",
       "      <td>9.14</td>\n",
       "      <td>356.44</td>\n",
       "      <td>9219.00</td>\n",
       "      <td>2.15</td>\n",
       "      <td>False Alarm</td>\n",
       "    </tr>\n",
       "  </tbody>\n",
       "</table>\n",
       "</div>"
      ],
      "text/plain": [
       "       pl_pnum     ra    dec  st_pmra  st_pmdec  pl_tranmid  pl_orbper  \\\n",
       "rowid                                                                    \n",
       "1            1 112.36 -12.70    -5.96     -0.08  2459229.63       2.17   \n",
       "2            1 122.58  -5.51    -4.96    -15.55  2459987.95       1.93   \n",
       "3            1 104.73 -10.58    -1.46     -2.25  2459224.69       1.87   \n",
       "4            1 110.56 -25.21    -0.94      1.64  2458493.40       2.74   \n",
       "5            1 122.18 -48.80    -4.50      9.35  2459987.05       3.57   \n",
       "\n",
       "       pl_trandurh  pl_trandep  pl_rade  pl_insol  pl_eqt  st_tmag  st_dist  \\\n",
       "rowid                                                                         \n",
       "1             2.02      656.89     5.82  22601.95 3127.20     9.60   485.74   \n",
       "2             3.17     1286.00    11.22  44464.50 4045.00     9.42   295.86   \n",
       "3             1.41     1500.00    23.75   2860.61 2037.00     9.30   943.11   \n",
       "4             3.17      383.41      NaN   1177.36 1631.00     9.30  7728.17   \n",
       "5             3.37      755.00    11.31  54679.30 4260.00     9.14   356.44   \n",
       "\n",
       "       st_teff  st_rad               class  \n",
       "rowid                                       \n",
       "1     10249.00    2.17         False Alarm  \n",
       "2      7070.00    2.01  Possible Candidate  \n",
       "3      8924.00    5.73         False Alarm  \n",
       "4      5388.50     NaN         False Alarm  \n",
       "5      9219.00    2.15         False Alarm  "
      ]
     },
     "execution_count": 5,
     "metadata": {},
     "output_type": "execute_result"
    }
   ],
   "source": [
    "data.head()"
   ]
  },
  {
   "cell_type": "markdown",
   "id": "d43c4c1e-9645-41d9-96c7-adec30d0ba9d",
   "metadata": {},
   "source": [
    "### Train-Test split"
   ]
  },
  {
   "cell_type": "code",
   "execution_count": 6,
   "id": "9a2dd9c0-c755-4873-b318-aeda0bf1352a",
   "metadata": {},
   "outputs": [],
   "source": [
    "X, y = data.drop(\"class\", axis=1), data[[\"class\"]]\n",
    "X_train, X_test, y_train, y_test = train_test_split(\n",
    "    X, y, test_size=0.2, random_state=42, shuffle=True\n",
    ")"
   ]
  },
  {
   "cell_type": "markdown",
   "id": "c664e902-0792-48bb-9f50-64e964a6eea9",
   "metadata": {},
   "source": [
    "## Encoding of the target"
   ]
  },
  {
   "cell_type": "code",
   "execution_count": 7,
   "id": "935bb2ea-bbfb-48c3-8e3e-64a96b8f0720",
   "metadata": {},
   "outputs": [],
   "source": [
    "# ordinal Encoding\n",
    "encoder = OrdinalEncoder(categories=[['False Alarm', 'Possible Candidate', 'Confirmed Planet']])\n",
    "y_train_encoding = encoder.fit_transform(y_train)\n",
    "y_train_encoding = y_train_encoding.astype(\"int32\")\n",
    "y_test_encoding = encoder.transform(y_test)\n",
    "y_test_encoding = y_test_encoding.astype(\"int32\")"
   ]
  },
  {
   "cell_type": "markdown",
   "id": "f66a6745-d296-496d-9093-94b489ae80ba",
   "metadata": {},
   "source": [
    "## Fix NaN"
   ]
  },
  {
   "cell_type": "code",
   "execution_count": 8,
   "id": "19a63f0b-54e6-412e-bacf-4777113dc007",
   "metadata": {},
   "outputs": [],
   "source": [
    "imputer = KNNImputer(n_neighbors=6)\n",
    "X_train_impute = imputer.fit_transform(X_train)\n",
    "X_test_impute = imputer.transform(X_test)"
   ]
  },
  {
   "cell_type": "markdown",
   "id": "9c8f2995-3791-4169-92e2-cbffc9d0e673",
   "metadata": {},
   "source": [
    "## Fixing Imbalance Data (SMOTE)"
   ]
  },
  {
   "cell_type": "code",
   "execution_count": 10,
   "id": "ef5413db-7c30-4b66-a499-575806cb0568",
   "metadata": {},
   "outputs": [
    {
     "data": {
      "text/plain": [
       "numpy.ndarray"
      ]
     },
     "execution_count": 10,
     "metadata": {},
     "output_type": "execute_result"
    }
   ],
   "source": [
    "type(y_train_encoding)"
   ]
  },
  {
   "cell_type": "code",
   "execution_count": 13,
   "id": "b29e414a-103a-4b1b-9124-0cef05aac6fd",
   "metadata": {},
   "outputs": [
    {
     "data": {
      "text/plain": [
       "(array([0, 1, 2], dtype=int32), array([1007, 4037,  936]))"
      ]
     },
     "execution_count": 13,
     "metadata": {},
     "output_type": "execute_result"
    }
   ],
   "source": [
    "np.unique(y_train_encoding, return_counts=True)"
   ]
  },
  {
   "cell_type": "code",
   "execution_count": 14,
   "id": "c85cca72-1e35-4fc0-b67d-bb7c61aaaf73",
   "metadata": {},
   "outputs": [],
   "source": [
    "smote = SMOTE(random_state=42)\n",
    "X_train_resampled, y_train_resampled = smote.fit_resample(X_train_impute, y_train_encoding)"
   ]
  },
  {
   "cell_type": "code",
   "execution_count": 15,
   "id": "a2839f50-15dd-4268-b84d-e7f265bf15a2",
   "metadata": {},
   "outputs": [
    {
     "data": {
      "text/plain": [
       "(array([0, 1, 2], dtype=int32), array([4037, 4037, 4037]))"
      ]
     },
     "execution_count": 15,
     "metadata": {},
     "output_type": "execute_result"
    }
   ],
   "source": [
    "np.unique(y_train_resampled, return_counts=True)"
   ]
  },
  {
   "cell_type": "markdown",
   "id": "adecb7ec-e779-4e6e-b2f7-9f7423a99198",
   "metadata": {},
   "source": [
    "## Scaling"
   ]
  },
  {
   "cell_type": "code",
   "execution_count": 22,
   "id": "dada4e5e-bf17-4bf8-8aec-70428a53a7c8",
   "metadata": {},
   "outputs": [],
   "source": [
    "# Standard Scaler\n",
    "scaler = StandardScaler()\n",
    "X_train_scaled = scaler.fit_transform(X_train_resampled)\n",
    "X_test_scaled = scaler.transform(X_test_impute)"
   ]
  },
  {
   "cell_type": "code",
   "execution_count": 19,
   "id": "55fb3138-b082-4e7f-a044-426dbd69f94a",
   "metadata": {},
   "outputs": [],
   "source": [
    "# Robust Scaler\n",
    "scaler = RobustScaler()\n",
    "X_train_scaled = scaler.fit_transform(X_train_resampled)\n",
    "X_test_scaled = scaler.transform(X_test_impute)"
   ]
  },
  {
   "cell_type": "markdown",
   "id": "10703990-3bbd-40f2-af1a-e1b0bb985751",
   "metadata": {},
   "source": [
    "## Modeling"
   ]
  },
  {
   "cell_type": "markdown",
   "id": "23afc774-146c-484d-8aff-5e2df4289806",
   "metadata": {},
   "source": [
    "### Decision Tree"
   ]
  },
  {
   "cell_type": "code",
   "execution_count": null,
   "id": "32ee1f92-64aa-490e-b4a7-a623550358e2",
   "metadata": {},
   "outputs": [],
   "source": [
    "tree_clf = DecisionTreeClassifier(random_state=42)\n",
    "tree_clf.fit(X_train_scaled, y_train_resampled)\n",
    "y_pred = tree_clf.predict(X_test_scaled)"
   ]
  },
  {
   "cell_type": "code",
   "execution_count": null,
   "id": "c08f8d37-7de6-479c-9c7c-002c44838f75",
   "metadata": {},
   "outputs": [],
   "source": [
    "# Metrics y_test_encoding\n",
    "accuracy  = accuracy_score(y_test_encoding, y_pred)\n",
    "precision = precision_score(y_test_encoding, y_pred, average=\"weighted\")  # for binary classification\n",
    "recall    = recall_score(y_test_encoding, y_pred, average=\"weighted\")\n",
    "f1        = f1_score(y_test_encoding, y_pred, average=\"weighted\")\n",
    "\n",
    "print(\"Accuracy:\", accuracy)\n",
    "print(\"Precision:\", precision)\n",
    "print(\"Recall:\", recall)\n",
    "print(\"F1 Score:\", f1)\n",
    "\n",
    "# Full classification report\n",
    "print(\"\\nClassification Report:\\n\", classification_report(y_test_encoding, y_pred))"
   ]
  },
  {
   "cell_type": "markdown",
   "id": "5b727749-10bb-4953-853c-3875415e8715",
   "metadata": {},
   "source": [
    "### Random Forest"
   ]
  },
  {
   "cell_type": "code",
   "execution_count": null,
   "id": "35f11b23-be7b-4e49-819c-62dd9816320c",
   "metadata": {},
   "outputs": [],
   "source": [
    "rf = RandomForestClassifier(\n",
    "    n_estimators=100,     # number of trees\n",
    "    max_depth=None,       # let it grow fully\n",
    "    random_state=42,\n",
    "    class_weight=\"balanced\"   # helps handle imbalance too\n",
    ")\n",
    "rf.fit(X_train_scaled, y_train_resampled)\n",
    "y_pred = rf.predict(X_test_scaled)"
   ]
  },
  {
   "cell_type": "code",
   "execution_count": null,
   "id": "8413862d-5861-4d3b-b6a1-771adefd31bc",
   "metadata": {},
   "outputs": [],
   "source": [
    "# Metrics\n",
    "accuracy  = accuracy_score(y_test_encoding, y_pred)\n",
    "precision = precision_score(y_test_encoding, y_pred, average=\"weighted\")  # for binary classification\n",
    "recall    = recall_score(y_test_encoding, y_pred, average=\"weighted\")\n",
    "f1        = f1_score(y_test_encoding, y_pred, average=\"weighted\")\n",
    "\n",
    "print(\"Accuracy:\", accuracy)\n",
    "print(\"Precision:\", precision)\n",
    "print(\"Recall:\", recall)\n",
    "print(\"F1 Score:\", f1)\n",
    "\n",
    "# Full classification report\n",
    "print(\"\\nClassification Report:\\n\", classification_report(y_test_encoding, y_pred))"
   ]
  },
  {
   "cell_type": "markdown",
   "id": "20b7374c-b107-4c33-8fe1-3bd208ea12d2",
   "metadata": {},
   "source": [
    "### XGBoost"
   ]
  },
  {
   "cell_type": "code",
   "execution_count": 23,
   "id": "45f8117d-dacd-4770-bdd1-4d8423f308f2",
   "metadata": {},
   "outputs": [],
   "source": [
    "xgb_model = xgb.XGBClassifier(\n",
    "    n_estimators=5000,        # number of trees\n",
    "    learning_rate=0.02,       # step size shrinkage\n",
    "    max_depth=10,             # max depth of each tree\n",
    "    subsample=0.8,           # subsample ratio for training\n",
    "    colsample_bytree=0.8,    # subsample ratio for features\n",
    "    random_state=42,\n",
    "    objective='multi:softmax',   # for multiclass classification\n",
    "    num_class=4,                 # your number of classes\n",
    "    eval_metric='mlogloss'\n",
    ")\n",
    "\n",
    "xgb_model.fit(X_train_scaled, y_train_resampled)\n",
    "y_pred = xgb_model.predict(X_test_scaled)"
   ]
  },
  {
   "cell_type": "code",
   "execution_count": 24,
   "id": "ca1c8993-8583-4fc1-bde1-02007b588ec0",
   "metadata": {
    "scrolled": true
   },
   "outputs": [
    {
     "name": "stdout",
     "output_type": "stream",
     "text": [
      "Accuracy: 0.7372994652406417\n",
      "Precision: 0.7323937188359892\n",
      "Recall: 0.7372994652406417\n",
      "F1 Score: 0.7344032539781833\n",
      "\n",
      "Classification Report:\n",
      "               precision    recall  f1-score   support\n",
      "\n",
      "           0       0.55      0.49      0.52       263\n",
      "           1       0.81      0.84      0.82       991\n",
      "           2       0.60      0.60      0.60       242\n",
      "\n",
      "    accuracy                           0.74      1496\n",
      "   macro avg       0.65      0.64      0.65      1496\n",
      "weighted avg       0.73      0.74      0.73      1496\n",
      "\n"
     ]
    }
   ],
   "source": [
    "# Metrics\n",
    "accuracy  = accuracy_score(y_test_encoding, y_pred)\n",
    "precision = precision_score(y_test_encoding, y_pred, average=\"weighted\")  # for binary classification\n",
    "recall    = recall_score(y_test_encoding, y_pred, average=\"weighted\")\n",
    "f1        = f1_score(y_test_encoding, y_pred, average=\"weighted\")\n",
    "\n",
    "print(\"Accuracy:\", accuracy)\n",
    "print(\"Precision:\", precision)\n",
    "print(\"Recall:\", recall)\n",
    "print(\"F1 Score:\", f1)\n",
    "\n",
    "# Full classification report\n",
    "print(\"\\nClassification Report:\\n\", classification_report(y_test_encoding, y_pred))"
   ]
  }
 ],
 "metadata": {
  "kernelspec": {
   "display_name": "Python 3 (ipykernel)",
   "language": "python",
   "name": "python3"
  },
  "language_info": {
   "codemirror_mode": {
    "name": "ipython",
    "version": 3
   },
   "file_extension": ".py",
   "mimetype": "text/x-python",
   "name": "python",
   "nbconvert_exporter": "python",
   "pygments_lexer": "ipython3",
   "version": "3.13.7"
  }
 },
 "nbformat": 4,
 "nbformat_minor": 5
}
